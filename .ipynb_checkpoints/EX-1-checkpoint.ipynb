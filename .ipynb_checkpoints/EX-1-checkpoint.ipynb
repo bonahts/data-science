{
 "cells": [
  {
   "cell_type": "code",
   "execution_count": 29,
   "metadata": {},
   "outputs": [],
   "source": [
    "import pandas as pd\n",
    "import numpy as np\n"
   ]
  },
  {
   "cell_type": "code",
   "execution_count": 30,
   "metadata": {},
   "outputs": [
    {
     "data": {
      "text/html": [
       "<div>\n",
       "<style scoped>\n",
       "    .dataframe tbody tr th:only-of-type {\n",
       "        vertical-align: middle;\n",
       "    }\n",
       "\n",
       "    .dataframe tbody tr th {\n",
       "        vertical-align: top;\n",
       "    }\n",
       "\n",
       "    .dataframe thead th {\n",
       "        text-align: right;\n",
       "    }\n",
       "</style>\n",
       "<table border=\"1\" class=\"dataframe\">\n",
       "  <thead>\n",
       "    <tr style=\"text-align: right;\">\n",
       "      <th></th>\n",
       "      <th>Id</th>\n",
       "      <th>EmployeeName</th>\n",
       "      <th>JobTitle</th>\n",
       "      <th>BasePay</th>\n",
       "      <th>OvertimePay</th>\n",
       "      <th>OtherPay</th>\n",
       "      <th>Benefits</th>\n",
       "      <th>TotalPay</th>\n",
       "      <th>TotalPayBenefits</th>\n",
       "      <th>Year</th>\n",
       "      <th>Notes</th>\n",
       "      <th>Agency</th>\n",
       "      <th>Status</th>\n",
       "    </tr>\n",
       "  </thead>\n",
       "  <tbody>\n",
       "    <tr>\n",
       "      <td>0</td>\n",
       "      <td>1</td>\n",
       "      <td>NATHANIEL FORD</td>\n",
       "      <td>GENERAL MANAGER-METROPOLITAN TRANSIT AUTHORITY</td>\n",
       "      <td>167411</td>\n",
       "      <td>0</td>\n",
       "      <td>400184</td>\n",
       "      <td>NaN</td>\n",
       "      <td>567595.43</td>\n",
       "      <td>567595.43</td>\n",
       "      <td>2011</td>\n",
       "      <td>NaN</td>\n",
       "      <td>San Francisco</td>\n",
       "      <td>NaN</td>\n",
       "    </tr>\n",
       "    <tr>\n",
       "      <td>1</td>\n",
       "      <td>2</td>\n",
       "      <td>GARY JIMENEZ</td>\n",
       "      <td>CAPTAIN III (POLICE DEPARTMENT)</td>\n",
       "      <td>155966</td>\n",
       "      <td>245132</td>\n",
       "      <td>137811</td>\n",
       "      <td>NaN</td>\n",
       "      <td>538909.28</td>\n",
       "      <td>538909.28</td>\n",
       "      <td>2011</td>\n",
       "      <td>NaN</td>\n",
       "      <td>San Francisco</td>\n",
       "      <td>NaN</td>\n",
       "    </tr>\n",
       "    <tr>\n",
       "      <td>2</td>\n",
       "      <td>3</td>\n",
       "      <td>ALBERT PARDINI</td>\n",
       "      <td>CAPTAIN III (POLICE DEPARTMENT)</td>\n",
       "      <td>212739</td>\n",
       "      <td>106088</td>\n",
       "      <td>16452.6</td>\n",
       "      <td>NaN</td>\n",
       "      <td>335279.91</td>\n",
       "      <td>335279.91</td>\n",
       "      <td>2011</td>\n",
       "      <td>NaN</td>\n",
       "      <td>San Francisco</td>\n",
       "      <td>NaN</td>\n",
       "    </tr>\n",
       "    <tr>\n",
       "      <td>3</td>\n",
       "      <td>4</td>\n",
       "      <td>CHRISTOPHER CHONG</td>\n",
       "      <td>WIRE ROPE CABLE MAINTENANCE MECHANIC</td>\n",
       "      <td>77916</td>\n",
       "      <td>56120.7</td>\n",
       "      <td>198307</td>\n",
       "      <td>NaN</td>\n",
       "      <td>332343.61</td>\n",
       "      <td>332343.61</td>\n",
       "      <td>2011</td>\n",
       "      <td>NaN</td>\n",
       "      <td>San Francisco</td>\n",
       "      <td>NaN</td>\n",
       "    </tr>\n",
       "    <tr>\n",
       "      <td>4</td>\n",
       "      <td>5</td>\n",
       "      <td>PATRICK GARDNER</td>\n",
       "      <td>DEPUTY CHIEF OF DEPARTMENT,(FIRE DEPARTMENT)</td>\n",
       "      <td>134402</td>\n",
       "      <td>9737</td>\n",
       "      <td>182235</td>\n",
       "      <td>NaN</td>\n",
       "      <td>326373.19</td>\n",
       "      <td>326373.19</td>\n",
       "      <td>2011</td>\n",
       "      <td>NaN</td>\n",
       "      <td>San Francisco</td>\n",
       "      <td>NaN</td>\n",
       "    </tr>\n",
       "    <tr>\n",
       "      <td>...</td>\n",
       "      <td>...</td>\n",
       "      <td>...</td>\n",
       "      <td>...</td>\n",
       "      <td>...</td>\n",
       "      <td>...</td>\n",
       "      <td>...</td>\n",
       "      <td>...</td>\n",
       "      <td>...</td>\n",
       "      <td>...</td>\n",
       "      <td>...</td>\n",
       "      <td>...</td>\n",
       "      <td>...</td>\n",
       "      <td>...</td>\n",
       "    </tr>\n",
       "    <tr>\n",
       "      <td>148649</td>\n",
       "      <td>148650</td>\n",
       "      <td>Roy I Tillery</td>\n",
       "      <td>Custodian</td>\n",
       "      <td>0.00</td>\n",
       "      <td>0.00</td>\n",
       "      <td>0.00</td>\n",
       "      <td>0.00</td>\n",
       "      <td>0.00</td>\n",
       "      <td>0.00</td>\n",
       "      <td>2014</td>\n",
       "      <td>NaN</td>\n",
       "      <td>San Francisco</td>\n",
       "      <td>PT</td>\n",
       "    </tr>\n",
       "    <tr>\n",
       "      <td>148650</td>\n",
       "      <td>148651</td>\n",
       "      <td>Not provided</td>\n",
       "      <td>Not provided</td>\n",
       "      <td>Not Provided</td>\n",
       "      <td>Not Provided</td>\n",
       "      <td>Not Provided</td>\n",
       "      <td>Not Provided</td>\n",
       "      <td>0.00</td>\n",
       "      <td>0.00</td>\n",
       "      <td>2014</td>\n",
       "      <td>NaN</td>\n",
       "      <td>San Francisco</td>\n",
       "      <td>NaN</td>\n",
       "    </tr>\n",
       "    <tr>\n",
       "      <td>148651</td>\n",
       "      <td>148652</td>\n",
       "      <td>Not provided</td>\n",
       "      <td>Not provided</td>\n",
       "      <td>Not Provided</td>\n",
       "      <td>Not Provided</td>\n",
       "      <td>Not Provided</td>\n",
       "      <td>Not Provided</td>\n",
       "      <td>0.00</td>\n",
       "      <td>0.00</td>\n",
       "      <td>2014</td>\n",
       "      <td>NaN</td>\n",
       "      <td>San Francisco</td>\n",
       "      <td>NaN</td>\n",
       "    </tr>\n",
       "    <tr>\n",
       "      <td>148652</td>\n",
       "      <td>148653</td>\n",
       "      <td>Not provided</td>\n",
       "      <td>Not provided</td>\n",
       "      <td>Not Provided</td>\n",
       "      <td>Not Provided</td>\n",
       "      <td>Not Provided</td>\n",
       "      <td>Not Provided</td>\n",
       "      <td>0.00</td>\n",
       "      <td>0.00</td>\n",
       "      <td>2014</td>\n",
       "      <td>NaN</td>\n",
       "      <td>San Francisco</td>\n",
       "      <td>NaN</td>\n",
       "    </tr>\n",
       "    <tr>\n",
       "      <td>148653</td>\n",
       "      <td>148654</td>\n",
       "      <td>Joe Lopez</td>\n",
       "      <td>Counselor, Log Cabin Ranch</td>\n",
       "      <td>0.00</td>\n",
       "      <td>0.00</td>\n",
       "      <td>-618.13</td>\n",
       "      <td>0.00</td>\n",
       "      <td>-618.13</td>\n",
       "      <td>-618.13</td>\n",
       "      <td>2014</td>\n",
       "      <td>NaN</td>\n",
       "      <td>San Francisco</td>\n",
       "      <td>PT</td>\n",
       "    </tr>\n",
       "  </tbody>\n",
       "</table>\n",
       "<p>148654 rows × 13 columns</p>\n",
       "</div>"
      ],
      "text/plain": [
       "            Id       EmployeeName  \\\n",
       "0            1     NATHANIEL FORD   \n",
       "1            2       GARY JIMENEZ   \n",
       "2            3     ALBERT PARDINI   \n",
       "3            4  CHRISTOPHER CHONG   \n",
       "4            5    PATRICK GARDNER   \n",
       "...        ...                ...   \n",
       "148649  148650      Roy I Tillery   \n",
       "148650  148651       Not provided   \n",
       "148651  148652       Not provided   \n",
       "148652  148653       Not provided   \n",
       "148653  148654          Joe Lopez   \n",
       "\n",
       "                                              JobTitle       BasePay  \\\n",
       "0       GENERAL MANAGER-METROPOLITAN TRANSIT AUTHORITY        167411   \n",
       "1                      CAPTAIN III (POLICE DEPARTMENT)        155966   \n",
       "2                      CAPTAIN III (POLICE DEPARTMENT)        212739   \n",
       "3                 WIRE ROPE CABLE MAINTENANCE MECHANIC         77916   \n",
       "4         DEPUTY CHIEF OF DEPARTMENT,(FIRE DEPARTMENT)        134402   \n",
       "...                                                ...           ...   \n",
       "148649                                       Custodian          0.00   \n",
       "148650                                    Not provided  Not Provided   \n",
       "148651                                    Not provided  Not Provided   \n",
       "148652                                    Not provided  Not Provided   \n",
       "148653                      Counselor, Log Cabin Ranch          0.00   \n",
       "\n",
       "         OvertimePay      OtherPay      Benefits   TotalPay  TotalPayBenefits  \\\n",
       "0                  0        400184           NaN  567595.43         567595.43   \n",
       "1             245132        137811           NaN  538909.28         538909.28   \n",
       "2             106088       16452.6           NaN  335279.91         335279.91   \n",
       "3            56120.7        198307           NaN  332343.61         332343.61   \n",
       "4               9737        182235           NaN  326373.19         326373.19   \n",
       "...              ...           ...           ...        ...               ...   \n",
       "148649          0.00          0.00          0.00       0.00              0.00   \n",
       "148650  Not Provided  Not Provided  Not Provided       0.00              0.00   \n",
       "148651  Not Provided  Not Provided  Not Provided       0.00              0.00   \n",
       "148652  Not Provided  Not Provided  Not Provided       0.00              0.00   \n",
       "148653          0.00       -618.13          0.00    -618.13           -618.13   \n",
       "\n",
       "        Year  Notes         Agency Status  \n",
       "0       2011    NaN  San Francisco    NaN  \n",
       "1       2011    NaN  San Francisco    NaN  \n",
       "2       2011    NaN  San Francisco    NaN  \n",
       "3       2011    NaN  San Francisco    NaN  \n",
       "4       2011    NaN  San Francisco    NaN  \n",
       "...      ...    ...            ...    ...  \n",
       "148649  2014    NaN  San Francisco     PT  \n",
       "148650  2014    NaN  San Francisco    NaN  \n",
       "148651  2014    NaN  San Francisco    NaN  \n",
       "148652  2014    NaN  San Francisco    NaN  \n",
       "148653  2014    NaN  San Francisco     PT  \n",
       "\n",
       "[148654 rows x 13 columns]"
      ]
     },
     "execution_count": 30,
     "metadata": {},
     "output_type": "execute_result"
    }
   ],
   "source": [
    "sal = pd.read_csv('Salaries.csv')\n",
    "sal"
   ]
  },
  {
   "cell_type": "markdown",
   "metadata": {},
   "source": [
    "# use the .info() method to find out how many entries there are "
   ]
  },
  {
   "cell_type": "code",
   "execution_count": 31,
   "metadata": {},
   "outputs": [
    {
     "name": "stdout",
     "output_type": "stream",
     "text": [
      "<class 'pandas.core.frame.DataFrame'>\n",
      "RangeIndex: 148654 entries, 0 to 148653\n",
      "Data columns (total 13 columns):\n",
      "Id                  148654 non-null int64\n",
      "EmployeeName        148654 non-null object\n",
      "JobTitle            148654 non-null object\n",
      "BasePay             148049 non-null object\n",
      "OvertimePay         148654 non-null object\n",
      "OtherPay            148654 non-null object\n",
      "Benefits            112495 non-null object\n",
      "TotalPay            148654 non-null float64\n",
      "TotalPayBenefits    148654 non-null float64\n",
      "Year                148654 non-null int64\n",
      "Notes               0 non-null float64\n",
      "Agency              148654 non-null object\n",
      "Status              38119 non-null object\n",
      "dtypes: float64(3), int64(2), object(8)\n",
      "memory usage: 14.7+ MB\n"
     ]
    }
   ],
   "source": [
    "sal.info()"
   ]
  },
  {
   "cell_type": "markdown",
   "metadata": {},
   "source": [
    "# What is the job title od Joseph Driscoll"
   ]
  },
  {
   "cell_type": "code",
   "execution_count": 43,
   "metadata": {},
   "outputs": [
    {
     "data": {
      "text/html": [
       "<div>\n",
       "<style scoped>\n",
       "    .dataframe tbody tr th:only-of-type {\n",
       "        vertical-align: middle;\n",
       "    }\n",
       "\n",
       "    .dataframe tbody tr th {\n",
       "        vertical-align: top;\n",
       "    }\n",
       "\n",
       "    .dataframe thead th {\n",
       "        text-align: right;\n",
       "    }\n",
       "</style>\n",
       "<table border=\"1\" class=\"dataframe\">\n",
       "  <thead>\n",
       "    <tr style=\"text-align: right;\">\n",
       "      <th></th>\n",
       "      <th>Id</th>\n",
       "      <th>EmployeeName</th>\n",
       "      <th>JobTitle</th>\n",
       "      <th>BasePay</th>\n",
       "      <th>OvertimePay</th>\n",
       "      <th>OtherPay</th>\n",
       "      <th>Benefits</th>\n",
       "      <th>TotalPay</th>\n",
       "      <th>TotalPayBenefits</th>\n",
       "      <th>Year</th>\n",
       "      <th>Notes</th>\n",
       "      <th>Agency</th>\n",
       "      <th>Status</th>\n",
       "    </tr>\n",
       "  </thead>\n",
       "  <tbody>\n",
       "    <tr>\n",
       "      <td>24</td>\n",
       "      <td>25</td>\n",
       "      <td>JOSEPH DRISCOLL</td>\n",
       "      <td>CAPTAIN, FIRE SUPPRESSION</td>\n",
       "      <td>140547</td>\n",
       "      <td>97868.8</td>\n",
       "      <td>31909.3</td>\n",
       "      <td>NaN</td>\n",
       "      <td>270324.91</td>\n",
       "      <td>270324.91</td>\n",
       "      <td>2011</td>\n",
       "      <td>NaN</td>\n",
       "      <td>San Francisco</td>\n",
       "      <td>NaN</td>\n",
       "    </tr>\n",
       "  </tbody>\n",
       "</table>\n",
       "</div>"
      ],
      "text/plain": [
       "    Id     EmployeeName                   JobTitle BasePay OvertimePay  \\\n",
       "24  25  JOSEPH DRISCOLL  CAPTAIN, FIRE SUPPRESSION  140547     97868.8   \n",
       "\n",
       "   OtherPay Benefits   TotalPay  TotalPayBenefits  Year  Notes         Agency  \\\n",
       "24  31909.3      NaN  270324.91         270324.91  2011    NaN  San Francisco   \n",
       "\n",
       "   Status  \n",
       "24    NaN  "
      ]
     },
     "execution_count": 43,
     "metadata": {},
     "output_type": "execute_result"
    }
   ],
   "source": [
    "sal[sal['EmployeeName'] == 'JOSEPH DRISCOLL']"
   ]
  },
  {
   "cell_type": "markdown",
   "metadata": {},
   "source": [
    "# To know the name if highest paid person (including benefits)"
   ]
  },
  {
   "cell_type": "code",
   "execution_count": 44,
   "metadata": {},
   "outputs": [
    {
     "data": {
      "text/plain": [
       "24    270324.91\n",
       "Name: TotalPayBenefits, dtype: float64"
      ]
     },
     "execution_count": 44,
     "metadata": {},
     "output_type": "execute_result"
    }
   ],
   "source": [
    "sal[sal['EmployeeName'] == 'JOSEPH DRISCOLL']['TotalPayBenefits']"
   ]
  },
  {
   "cell_type": "code",
   "execution_count": 53,
   "metadata": {},
   "outputs": [
    {
     "data": {
      "text/html": [
       "<div>\n",
       "<style scoped>\n",
       "    .dataframe tbody tr th:only-of-type {\n",
       "        vertical-align: middle;\n",
       "    }\n",
       "\n",
       "    .dataframe tbody tr th {\n",
       "        vertical-align: top;\n",
       "    }\n",
       "\n",
       "    .dataframe thead th {\n",
       "        text-align: right;\n",
       "    }\n",
       "</style>\n",
       "<table border=\"1\" class=\"dataframe\">\n",
       "  <thead>\n",
       "    <tr style=\"text-align: right;\">\n",
       "      <th></th>\n",
       "      <th>Id</th>\n",
       "      <th>EmployeeName</th>\n",
       "      <th>JobTitle</th>\n",
       "      <th>BasePay</th>\n",
       "      <th>OvertimePay</th>\n",
       "      <th>OtherPay</th>\n",
       "      <th>Benefits</th>\n",
       "      <th>TotalPay</th>\n",
       "      <th>TotalPayBenefits</th>\n",
       "      <th>Year</th>\n",
       "      <th>Notes</th>\n",
       "      <th>Agency</th>\n",
       "      <th>Status</th>\n",
       "    </tr>\n",
       "  </thead>\n",
       "  <tbody>\n",
       "    <tr>\n",
       "      <td>0</td>\n",
       "      <td>1</td>\n",
       "      <td>NATHANIEL FORD</td>\n",
       "      <td>GENERAL MANAGER-METROPOLITAN TRANSIT AUTHORITY</td>\n",
       "      <td>167411</td>\n",
       "      <td>0</td>\n",
       "      <td>400184</td>\n",
       "      <td>NaN</td>\n",
       "      <td>567595.43</td>\n",
       "      <td>567595.43</td>\n",
       "      <td>2011</td>\n",
       "      <td>NaN</td>\n",
       "      <td>San Francisco</td>\n",
       "      <td>NaN</td>\n",
       "    </tr>\n",
       "  </tbody>\n",
       "</table>\n",
       "</div>"
      ],
      "text/plain": [
       "   Id    EmployeeName                                        JobTitle BasePay  \\\n",
       "0   1  NATHANIEL FORD  GENERAL MANAGER-METROPOLITAN TRANSIT AUTHORITY  167411   \n",
       "\n",
       "  OvertimePay OtherPay Benefits   TotalPay  TotalPayBenefits  Year  Notes  \\\n",
       "0           0   400184      NaN  567595.43         567595.43  2011    NaN   \n",
       "\n",
       "          Agency Status  \n",
       "0  San Francisco    NaN  "
      ]
     },
     "execution_count": 53,
     "metadata": {},
     "output_type": "execute_result"
    }
   ],
   "source": [
    "sal[sal['TotalPayBenefits'] == sal ['TotalPayBenefits'].max()]"
   ]
  },
  {
   "cell_type": "code",
   "execution_count": 52,
   "metadata": {},
   "outputs": [
    {
     "data": {
      "text/plain": [
       "0    NATHANIEL FORD\n",
       "Name: EmployeeName, dtype: object"
      ]
     },
     "execution_count": 52,
     "metadata": {},
     "output_type": "execute_result"
    }
   ],
   "source": [
    "sal[sal['TotalPayBenefits'] == sal ['TotalPayBenefits'].max()]['EmployeeName']"
   ]
  },
  {
   "cell_type": "code",
   "execution_count": 50,
   "metadata": {},
   "outputs": [
    {
     "data": {
      "text/plain": [
       "0          True\n",
       "1         False\n",
       "2         False\n",
       "3         False\n",
       "4         False\n",
       "          ...  \n",
       "148649    False\n",
       "148650    False\n",
       "148651    False\n",
       "148652    False\n",
       "148653    False\n",
       "Name: TotalPayBenefits, Length: 148654, dtype: bool"
      ]
     },
     "execution_count": 50,
     "metadata": {},
     "output_type": "execute_result"
    }
   ],
   "source": [
    "sal['TotalPayBenefits'] == sal ['TotalPayBenefits'].max()"
   ]
  },
  {
   "cell_type": "markdown",
   "metadata": {},
   "source": [
    "# what is the name of lowest paid person (including benefits) do you notice something strange about how much he or she is paid"
   ]
  },
  {
   "cell_type": "code",
   "execution_count": 54,
   "metadata": {},
   "outputs": [
    {
     "name": "stderr",
     "output_type": "stream",
     "text": [
      "C:\\Users\\bona\\Anaconda3\\lib\\site-packages\\ipykernel_launcher.py:1: FutureWarning: \n",
      "The current behaviour of 'Series.argmin' is deprecated, use 'idxmin'\n",
      "instead.\n",
      "The behavior of 'argmin' will be corrected to return the positional\n",
      "minimum in the future. For now, use 'series.values.argmin' or\n",
      "'np.argmin(np.array(values))' to get the position of the minimum\n",
      "row.\n",
      "  \"\"\"Entry point for launching an IPython kernel.\n"
     ]
    },
    {
     "data": {
      "text/plain": [
       "Id                                      148654\n",
       "EmployeeName                         Joe Lopez\n",
       "JobTitle            Counselor, Log Cabin Ranch\n",
       "BasePay                                   0.00\n",
       "OvertimePay                               0.00\n",
       "OtherPay                               -618.13\n",
       "Benefits                                  0.00\n",
       "TotalPay                               -618.13\n",
       "TotalPayBenefits                       -618.13\n",
       "Year                                      2014\n",
       "Notes                                      NaN\n",
       "Agency                           San Francisco\n",
       "Status                                      PT\n",
       "Name: 148653, dtype: object"
      ]
     },
     "execution_count": 54,
     "metadata": {},
     "output_type": "execute_result"
    }
   ],
   "source": [
    "sal.iloc[sal['TotalPayBenefits'].argmin()]"
   ]
  },
  {
   "cell_type": "code",
   "execution_count": 57,
   "metadata": {},
   "outputs": [
    {
     "data": {
      "text/html": [
       "<div>\n",
       "<style scoped>\n",
       "    .dataframe tbody tr th:only-of-type {\n",
       "        vertical-align: middle;\n",
       "    }\n",
       "\n",
       "    .dataframe tbody tr th {\n",
       "        vertical-align: top;\n",
       "    }\n",
       "\n",
       "    .dataframe thead th {\n",
       "        text-align: right;\n",
       "    }\n",
       "</style>\n",
       "<table border=\"1\" class=\"dataframe\">\n",
       "  <thead>\n",
       "    <tr style=\"text-align: right;\">\n",
       "      <th></th>\n",
       "      <th>Id</th>\n",
       "      <th>EmployeeName</th>\n",
       "      <th>JobTitle</th>\n",
       "      <th>BasePay</th>\n",
       "      <th>OvertimePay</th>\n",
       "      <th>OtherPay</th>\n",
       "      <th>Benefits</th>\n",
       "      <th>TotalPay</th>\n",
       "      <th>TotalPayBenefits</th>\n",
       "      <th>Year</th>\n",
       "      <th>Notes</th>\n",
       "      <th>Agency</th>\n",
       "      <th>Status</th>\n",
       "    </tr>\n",
       "  </thead>\n",
       "  <tbody>\n",
       "    <tr>\n",
       "      <td>148653</td>\n",
       "      <td>148654</td>\n",
       "      <td>Joe Lopez</td>\n",
       "      <td>Counselor, Log Cabin Ranch</td>\n",
       "      <td>0.00</td>\n",
       "      <td>0.00</td>\n",
       "      <td>-618.13</td>\n",
       "      <td>0.00</td>\n",
       "      <td>-618.13</td>\n",
       "      <td>-618.13</td>\n",
       "      <td>2014</td>\n",
       "      <td>NaN</td>\n",
       "      <td>San Francisco</td>\n",
       "      <td>PT</td>\n",
       "    </tr>\n",
       "  </tbody>\n",
       "</table>\n",
       "</div>"
      ],
      "text/plain": [
       "            Id EmployeeName                    JobTitle BasePay OvertimePay  \\\n",
       "148653  148654    Joe Lopez  Counselor, Log Cabin Ranch    0.00        0.00   \n",
       "\n",
       "       OtherPay Benefits  TotalPay  TotalPayBenefits  Year  Notes  \\\n",
       "148653  -618.13     0.00   -618.13           -618.13  2014    NaN   \n",
       "\n",
       "               Agency Status  \n",
       "148653  San Francisco     PT  "
      ]
     },
     "execution_count": 57,
     "metadata": {},
     "output_type": "execute_result"
    }
   ],
   "source": [
    "sal[sal['TotalPayBenefits'] == sal ['TotalPayBenefits'].min()]"
   ]
  },
  {
   "cell_type": "markdown",
   "metadata": {},
   "source": [
    "# What was the averange (mean) BasePay of all employess per year (2011-2014)"
   ]
  },
  {
   "cell_type": "code",
   "execution_count": 62,
   "metadata": {},
   "outputs": [
    {
     "data": {
      "text/html": [
       "<div>\n",
       "<style scoped>\n",
       "    .dataframe tbody tr th:only-of-type {\n",
       "        vertical-align: middle;\n",
       "    }\n",
       "\n",
       "    .dataframe tbody tr th {\n",
       "        vertical-align: top;\n",
       "    }\n",
       "\n",
       "    .dataframe thead th {\n",
       "        text-align: right;\n",
       "    }\n",
       "</style>\n",
       "<table border=\"1\" class=\"dataframe\">\n",
       "  <thead>\n",
       "    <tr style=\"text-align: right;\">\n",
       "      <th></th>\n",
       "      <th>Id</th>\n",
       "      <th>TotalPay</th>\n",
       "      <th>TotalPayBenefits</th>\n",
       "      <th>Notes</th>\n",
       "    </tr>\n",
       "    <tr>\n",
       "      <th>Year</th>\n",
       "      <th></th>\n",
       "      <th></th>\n",
       "      <th></th>\n",
       "      <th></th>\n",
       "    </tr>\n",
       "  </thead>\n",
       "  <tbody>\n",
       "    <tr>\n",
       "      <td>2011</td>\n",
       "      <td>18080.0</td>\n",
       "      <td>71744.103871</td>\n",
       "      <td>71744.103871</td>\n",
       "      <td>NaN</td>\n",
       "    </tr>\n",
       "    <tr>\n",
       "      <td>2012</td>\n",
       "      <td>54542.5</td>\n",
       "      <td>74113.262265</td>\n",
       "      <td>100553.229232</td>\n",
       "      <td>NaN</td>\n",
       "    </tr>\n",
       "    <tr>\n",
       "      <td>2013</td>\n",
       "      <td>91728.5</td>\n",
       "      <td>77611.443142</td>\n",
       "      <td>101440.519714</td>\n",
       "      <td>NaN</td>\n",
       "    </tr>\n",
       "    <tr>\n",
       "      <td>2014</td>\n",
       "      <td>129593.0</td>\n",
       "      <td>75463.918140</td>\n",
       "      <td>100250.918884</td>\n",
       "      <td>NaN</td>\n",
       "    </tr>\n",
       "  </tbody>\n",
       "</table>\n",
       "</div>"
      ],
      "text/plain": [
       "            Id      TotalPay  TotalPayBenefits  Notes\n",
       "Year                                                 \n",
       "2011   18080.0  71744.103871      71744.103871    NaN\n",
       "2012   54542.5  74113.262265     100553.229232    NaN\n",
       "2013   91728.5  77611.443142     101440.519714    NaN\n",
       "2014  129593.0  75463.918140     100250.918884    NaN"
      ]
     },
     "execution_count": 62,
     "metadata": {},
     "output_type": "execute_result"
    }
   ],
   "source": [
    "sal.groupby('Year').mean()"
   ]
  },
  {
   "cell_type": "markdown",
   "metadata": {},
   "source": [
    "# how many unique job titles are there"
   ]
  },
  {
   "cell_type": "code",
   "execution_count": 65,
   "metadata": {},
   "outputs": [
    {
     "data": {
      "text/plain": [
       "array(['GENERAL MANAGER-METROPOLITAN TRANSIT AUTHORITY',\n",
       "       'CAPTAIN III (POLICE DEPARTMENT)',\n",
       "       'WIRE ROPE CABLE MAINTENANCE MECHANIC', ..., 'Conversion',\n",
       "       'Cashier 3', 'Not provided'], dtype=object)"
      ]
     },
     "execution_count": 65,
     "metadata": {},
     "output_type": "execute_result"
    }
   ],
   "source": [
    "sal['JobTitle'].unique()"
   ]
  },
  {
   "cell_type": "code",
   "execution_count": 67,
   "metadata": {},
   "outputs": [
    {
     "data": {
      "text/plain": [
       "2159"
      ]
     },
     "execution_count": 67,
     "metadata": {},
     "output_type": "execute_result"
    }
   ],
   "source": [
    "len(sal['JobTitle'].unique())"
   ]
  },
  {
   "cell_type": "markdown",
   "metadata": {},
   "source": [
    "# what are the top 5 most commont jobs"
   ]
  },
  {
   "cell_type": "code",
   "execution_count": 68,
   "metadata": {},
   "outputs": [
    {
     "data": {
      "text/plain": [
       "Transit Operator                7036\n",
       "Special Nurse                   4389\n",
       "Registered Nurse                3736\n",
       "Public Svc Aide-Public Works    2518\n",
       "Police Officer 3                2421\n",
       "Name: JobTitle, dtype: int64"
      ]
     },
     "execution_count": 68,
     "metadata": {},
     "output_type": "execute_result"
    }
   ],
   "source": [
    "sal['JobTitle'].value_counts().head(5)"
   ]
  },
  {
   "cell_type": "markdown",
   "metadata": {},
   "source": [
    "# How many Job Titles were repsented by only one person in 2013? (eq. Job with only one occurence in 2013)"
   ]
  },
  {
   "cell_type": "code",
   "execution_count": 72,
   "metadata": {},
   "outputs": [
    {
     "data": {
      "text/plain": [
       "Transit Operator                2295\n",
       "Special Nurse                   1445\n",
       "Registered Nurse                1231\n",
       "Public Svc Aide-Public Works     859\n",
       "Custodian                        789\n",
       "                                ... \n",
       "Assistant Inspector                1\n",
       "Asst Dir of Clinical Svcs 1        1\n",
       "Cement Finisher Supervisor 2       1\n",
       "Dir, Log Cabin Ranch (SFERS)       1\n",
       "Administrative Analyst II          1\n",
       "Name: JobTitle, Length: 1051, dtype: int64"
      ]
     },
     "execution_count": 72,
     "metadata": {},
     "output_type": "execute_result"
    }
   ],
   "source": [
    "sal[sal['Year'] == 2013]['JobTitle'].value_counts()"
   ]
  },
  {
   "cell_type": "code",
   "execution_count": 74,
   "metadata": {},
   "outputs": [
    {
     "data": {
      "text/plain": [
       "202"
      ]
     },
     "execution_count": 74,
     "metadata": {},
     "output_type": "execute_result"
    }
   ],
   "source": [
    "sum(sal[sal['Year'] == 2013]['JobTitle'].value_counts()==1)"
   ]
  },
  {
   "cell_type": "markdown",
   "metadata": {},
   "source": [
    "# How many people have the word chief in their job  title ?  "
   ]
  },
  {
   "cell_type": "code",
   "execution_count": 78,
   "metadata": {},
   "outputs": [],
   "source": [
    "def chief_string(title):\n",
    "    if 'chief' in title.lower().split():\n",
    "        return True\n",
    "    else:\n",
    "        return False"
   ]
  },
  {
   "cell_type": "code",
   "execution_count": 80,
   "metadata": {},
   "outputs": [
    {
     "data": {
      "text/plain": [
       "True"
      ]
     },
     "execution_count": 80,
     "metadata": {},
     "output_type": "execute_result"
    }
   ],
   "source": [
    "chief_string('CHIEF MANAGER-METROPOLITAN TRANSIT AUTHORITY')"
   ]
  },
  {
   "cell_type": "code",
   "execution_count": 88,
   "metadata": {},
   "outputs": [
    {
     "data": {
      "text/plain": [
       "477"
      ]
     },
     "execution_count": 88,
     "metadata": {},
     "output_type": "execute_result"
    }
   ],
   "source": [
    "sum(sal['JobTitle'].apply(lambda x: chief_string(x)))"
   ]
  },
  {
   "cell_type": "code",
   "execution_count": 75,
   "metadata": {},
   "outputs": [
    {
     "data": {
      "text/plain": [
       "0         GENERAL MANAGER-METROPOLITAN TRANSIT AUTHORITY\n",
       "1                        CAPTAIN III (POLICE DEPARTMENT)\n",
       "2                        CAPTAIN III (POLICE DEPARTMENT)\n",
       "3                   WIRE ROPE CABLE MAINTENANCE MECHANIC\n",
       "4           DEPUTY CHIEF OF DEPARTMENT,(FIRE DEPARTMENT)\n",
       "                               ...                      \n",
       "148649                                         Custodian\n",
       "148650                                      Not provided\n",
       "148651                                      Not provided\n",
       "148652                                      Not provided\n",
       "148653                        Counselor, Log Cabin Ranch\n",
       "Name: JobTitle, Length: 148654, dtype: object"
      ]
     },
     "execution_count": 75,
     "metadata": {},
     "output_type": "execute_result"
    }
   ],
   "source": [
    "sal['JobTitle']"
   ]
  },
  {
   "cell_type": "code",
   "execution_count": null,
   "metadata": {},
   "outputs": [],
   "source": [
    "Is there a dorrelation between lenghth of the Job Title string and Salary"
   ]
  },
  {
   "cell_type": "code",
   "execution_count": null,
   "metadata": {},
   "outputs": [],
   "source": []
  },
  {
   "cell_type": "code",
   "execution_count": null,
   "metadata": {},
   "outputs": [],
   "source": []
  },
  {
   "cell_type": "code",
   "execution_count": null,
   "metadata": {},
   "outputs": [],
   "source": []
  },
  {
   "cell_type": "code",
   "execution_count": null,
   "metadata": {},
   "outputs": [],
   "source": []
  },
  {
   "cell_type": "code",
   "execution_count": null,
   "metadata": {},
   "outputs": [],
   "source": []
  },
  {
   "cell_type": "code",
   "execution_count": null,
   "metadata": {},
   "outputs": [],
   "source": []
  },
  {
   "cell_type": "code",
   "execution_count": null,
   "metadata": {},
   "outputs": [],
   "source": []
  }
 ],
 "metadata": {
  "kernelspec": {
   "display_name": "Python 3",
   "language": "python",
   "name": "python3"
  },
  "language_info": {
   "codemirror_mode": {
    "name": "ipython",
    "version": 3
   },
   "file_extension": ".py",
   "mimetype": "text/x-python",
   "name": "python",
   "nbconvert_exporter": "python",
   "pygments_lexer": "ipython3",
   "version": "3.7.4"
  }
 },
 "nbformat": 4,
 "nbformat_minor": 2
}
